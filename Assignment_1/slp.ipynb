{
 "cells": [
  {
   "cell_type": "code",
   "execution_count": null,
   "metadata": {},
   "outputs": [],
   "source": [
    "'''\n",
    "CAP6615 - Spring 2022\n",
    "Assignment #1 - Single- and Multi-Layer Shallow Neural Networks\n",
    "'''\n",
    "\n",
    "import numpy as np\n",
    "\n",
    "\n",
    "class Perceptron(object):\n",
    "    def __init__(self, input_size):\n",
    "        '''\n",
    "        Initialize perceptron model.\n",
    "        '''\n",
    "\n",
    "    def activation_fn(self, x):\n",
    "        return 1 if x >= 0 else 0\n",
    "\n",
    "    def _initialize_weights(self):\n",
    "        '''\n",
    "        Initialize the weights, initalize using random numbers.\n",
    "        '''\n",
    "        self.weights = np.random.randn()\n",
    "\n",
    "    def initialize_all_weights_to_zeros(self):\n",
    "        '''\n",
    "        Initialize the weights, initalize using random numbers.\n",
    "        '''\n",
    "\n",
    "    def predict(self, X):\n",
    "        '''\n",
    "        Make a prediction on an array of inputs\n",
    "        '''\n",
    "\n",
    "    def calculate_percent_error(self, X, Y):\n",
    "        '''\n",
    "        Calculates percent error.\n",
    "        '''\n",
    "\n",
    "    def fit(self, X, d):\n",
    "        '''\n",
    "        Trains the model on data X with desired outputs d.\n",
    "        '''\n",
    "\n",
    "if __name__ == \"__main__\":\n",
    "    print('Hello World')"
   ]
  }
 ],
 "metadata": {
  "language_info": {
   "name": "python"
  },
  "orig_nbformat": 4
 },
 "nbformat": 4,
 "nbformat_minor": 2
}
