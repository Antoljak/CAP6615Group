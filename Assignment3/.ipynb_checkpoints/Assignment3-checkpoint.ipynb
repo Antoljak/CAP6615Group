{
 "cells": [
  {
   "cell_type": "code",
   "execution_count": 22,
   "metadata": {},
   "outputs": [
    {
     "name": "stdout",
     "output_type": "stream",
     "text": [
      "            Close/Last      Open      High       Low\n",
      "Date                                                \n",
      "2012-03-11     4089.41   4062.01   4098.33   4062.01\n",
      "2012-03-18     6968.09   6935.37   6977.10   6922.83\n",
      "2012-03-25     7008.05   7014.95   7033.41   6976.35\n",
      "2012-04-01     7046.32   7034.88   7065.66   6999.24\n",
      "2012-04-08     7027.54   5639.33   5656.07   5596.09\n",
      "...                ...       ...       ...       ...\n",
      "2022-02-06    22629.44  22535.95  22745.23  22363.76\n",
      "2022-02-13    22515.31  22592.28  22758.46  22369.59\n",
      "2022-02-20    22076.88  22138.27  22239.20  21924.83\n",
      "2022-02-27    17203.61  17111.82  17383.70  16890.10\n",
      "2022-03-06    21759.10  21783.30  21927.67  21547.76\n",
      "\n",
      "[522 rows x 4 columns]\n"
     ]
    }
   ],
   "source": [
    "import pandas as pd\n",
    "SP500 = pd.read_csv('SP500.csv', parse_dates=['Date'],index_col=['Date'])\n",
    "dfSP500_W=SP500.resample('W').sum()\n",
    "print(df)"
   ]
  },
  {
   "cell_type": "code",
   "execution_count": null,
   "metadata": {},
   "outputs": [],
   "source": []
  },
  {
   "cell_type": "code",
   "execution_count": null,
   "metadata": {},
   "outputs": [],
   "source": []
  }
 ],
 "metadata": {
  "kernelspec": {
   "display_name": "Python 3",
   "language": "python",
   "name": "python3"
  },
  "language_info": {
   "codemirror_mode": {
    "name": "ipython",
    "version": 3
   },
   "file_extension": ".py",
   "mimetype": "text/x-python",
   "name": "python",
   "nbconvert_exporter": "python",
   "pygments_lexer": "ipython3",
   "version": "3.8.3"
  }
 },
 "nbformat": 4,
 "nbformat_minor": 4
}
