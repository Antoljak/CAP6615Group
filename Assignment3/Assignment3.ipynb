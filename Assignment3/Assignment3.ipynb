{
 "cells": [
  {
   "cell_type": "code",
   "execution_count": 1,
   "id": "506c5b32",
   "metadata": {},
   "outputs": [
    {
     "name": "stdout",
     "output_type": "stream",
     "text": [
      "           Date    Price     Open     High      Low Vol.  Change %\n",
      "0    01/12/2021  4766.18  4623.80  4808.52  4494.20    -    0.0436\n",
      "1    01/11/2021  4567.00  4616.47  4743.74  4560.26    -   -0.0083\n",
      "2    01/10/2021  4605.38  4324.71  4608.70  4278.70    -    0.0691\n",
      "3    01/09/2021  4307.54  4531.04  4544.58  4304.90    -   -0.0476\n",
      "4    01/08/2021  4522.68  4415.90  4537.80  4369.20    -    0.0290\n",
      "..          ...      ...      ...      ...      ...  ...       ...\n",
      "618  01/06/1970    72.72    76.55    79.96    72.25    -   -0.0500\n",
      "619  01/05/1970    76.55    81.52    82.32    68.61    -   -0.0610\n",
      "620  01/04/1970    81.52    89.63    90.70    79.31    -   -0.0905\n",
      "621  01/03/1970    89.63    89.50    91.07    86.19    -    0.0015\n",
      "622  01/02/1970    89.50    85.02    90.33    84.64    -    0.0527\n",
      "\n",
      "[623 rows x 7 columns]\n"
     ]
    }
   ],
   "source": [
    "import numpy as np\n",
    "import pandas as pd\n",
    "import random\n",
    "import torch\n",
    "import torch.nn as nn\n",
    "from torch.autograd import Variable\n",
    "from sklearn.preprocessing import MinMaxScaler\n",
    "from sklearn.model_selection import train_test_split\n",
    "import matplotlib.pyplot as plt\n",
    "dataframe = pd.read_csv(\"SP500DATA.csv\")\n",
    "print(dataframe)# Text file data converted to integer data type"
   ]
  },
  {
   "cell_type": "code",
   "execution_count": 2,
   "id": "13eab16d",
   "metadata": {
    "scrolled": true
   },
   "outputs": [
    {
     "name": "stdout",
     "output_type": "stream",
     "text": [
      "(623, 1)\n"
     ]
    }
   ],
   "source": [
    "trainData = dataframe[[\"Price\", \"Open\"]].to_numpy(dtype = 'float')\n",
    "targetData = dataframe[[\"Price\"]].to_numpy(dtype = 'float')\n",
    "date = dataframe[[\"Date\"]].to_numpy(dtype = \"str\")\n",
    "\n",
    "norm = MinMaxScaler(feature_range = (0, 1))\n",
    "trainData = norm.fit_transform(trainData)\n",
    "targetData = norm.fit_transform(targetData)\n",
    "trainData = np.flip(trainData)\n",
    "targetData = np.flip(targetData)\n",
    "date = np.flip(date)\n",
    "print(np.shape(date))\n",
    "\n",
    "dateAxis = []\n",
    "for i in range(date.shape[0]):\n",
    "    dateAxis.append(float(np.squeeze(date)[i][6:10]) + float(np.squeeze(date)[i][3:5])/12.0)\n",
    "dateAxis_test=date[438:623,:]"
   ]
  },
  {
   "cell_type": "code",
   "execution_count": 3,
   "id": "7688b5ec",
   "metadata": {},
   "outputs": [],
   "source": [
    "X = []\n",
    "Y = []\n",
    "for i in range(trainData.shape[0] - 5 - 4):\n",
    "    X.append(trainData[i:i+6])\n",
    "    Y.append(targetData[i+6:i+6+4])\n",
    "X = np.array(X)\n",
    "Y = np.array(Y)\n",
    "Y = np.swapaxes(Y, 1, 2)"
   ]
  },
  {
   "cell_type": "code",
   "execution_count": 4,
   "id": "028d02c5",
   "metadata": {},
   "outputs": [],
   "source": [
    "X_fullTraining = []\n",
    "X_training = []\n",
    "X_validation = []\n",
    "X_test = []\n",
    "Y_fullTraining = []\n",
    "Y_training = []\n",
    "Y_validation = []\n",
    "Y_test = []\n",
    "\n",
    "X_fullTraining, X_test, Y_fullTraining, Y_test = train_test_split(X, Y, test_size=0.3, shuffle=False)\n",
    "X_training, X_validation, Y_training, Y_validation = train_test_split(X_fullTraining, Y_fullTraining, test_size=0.3, shuffle=False)\n",
    "\n",
    "date_train=date[0:437,:]\n",
    "date_test=date[438:623,:]"
   ]
  },
  {
   "cell_type": "code",
   "execution_count": 5,
   "id": "00c8dafc",
   "metadata": {},
   "outputs": [],
   "source": [
    "class Model(nn.Module):\n",
    "    def __init__(self, input_size, output_size, hidden_dim, n_layers):\n",
    "        super(Model, self).__init__()\n",
    "\n",
    "        self.hidden_dim = hidden_dim\n",
    "        self.n_layers = n_layers\n",
    "\n",
    "        self.rnn = nn.RNN(input_size, hidden_dim, n_layers, batch_first=True)   \n",
    "\n",
    "        self.fc = nn.Linear(hidden_dim, output_size)\n",
    "    \n",
    "    def forward(self, x):\n",
    "        \n",
    "        batch_size = x.size(0)\n",
    "\n",
    "        hidden = self.init_hidden(batch_size)\n",
    "\n",
    "        out, hidden = self.rnn(x, hidden)\n",
    "    \n",
    "        out = self.fc(out)\n",
    "    \n",
    "        return out[:, -1, :], hidden\n",
    "    \n",
    "    def init_hidden(self, batch_size):\n",
    "        hidden = torch.zeros(self.n_layers, batch_size, self.hidden_dim)\n",
    "        return hidden"
   ]
  },
  {
   "cell_type": "code",
   "execution_count": 6,
   "id": "838a7365",
   "metadata": {},
   "outputs": [
    {
     "data": {
      "text/plain": [
       "Model(\n",
       "  (rnn): RNN(2, 16, batch_first=True)\n",
       "  (fc): Linear(in_features=16, out_features=4, bias=True)\n",
       ")"
      ]
     },
     "execution_count": 6,
     "metadata": {},
     "output_type": "execute_result"
    }
   ],
   "source": [
    "RNN = Model(input_size=2, output_size=4, hidden_dim=16, n_layers=1)\n",
    "optimizer = torch.optim.Adam(RNN.parameters(), lr=0.01)\n",
    "criterion = nn.MSELoss()\n",
    "RNN"
   ]
  },
  {
   "cell_type": "code",
   "execution_count": 7,
   "id": "52d8f13e",
   "metadata": {},
   "outputs": [
    {
     "name": "stdout",
     "output_type": "stream",
     "text": [
      "Epoch: 0/100............. Loss: 0.05166224017739296\n",
      "Epoch: 10/100............. Loss: 0.0010208404855802655\n",
      "Epoch: 20/100............. Loss: 0.0006330022006295621\n",
      "Epoch: 30/100............. Loss: 0.0005652385880239308\n",
      "Epoch: 40/100............. Loss: 0.00043718729284591973\n",
      "Epoch: 50/100............. Loss: 0.0003161285421811044\n",
      "Epoch: 60/100............. Loss: 0.00020063486590515822\n",
      "Epoch: 70/100............. Loss: 0.00011445442942203954\n",
      "Epoch: 80/100............. Loss: 5.7587618357501924e-05\n",
      "Epoch: 90/100............. Loss: 2.8140517315478064e-05\n"
     ]
    }
   ],
   "source": [
    "xTensor = torch.from_numpy(X_training).float()\n",
    "yTensor = torch.Tensor(Y_training).float()\n",
    "\n",
    "for epoch in range(100):\n",
    "    optimizer.zero_grad()\n",
    "    \n",
    "    output, hidden = RNN(xTensor)\n",
    "    loss = criterion(output.reshape(-1), yTensor.view(-1))\n",
    "    loss.backward()\n",
    "    \n",
    "    optimizer.step()\n",
    "    \n",
    "    if epoch%10 == 0:\n",
    "        print('Epoch: {}/{}.............'.format(epoch, 100), end=' ')\n",
    "        print(\"Loss:\", loss.item())"
   ]
  },
  {
   "cell_type": "code",
   "execution_count": 8,
   "id": "85d85b58",
   "metadata": {},
   "outputs": [],
   "source": [
    "def prediction_error(pred, actual):\n",
    "    return abs(pred - actual)/pred"
   ]
  },
  {
   "cell_type": "code",
   "execution_count": 9,
   "id": "da4367e9",
   "metadata": {
    "scrolled": false
   },
   "outputs": [
    {
     "data": {
      "image/png": "[encoded data removed]",
      "text/plain": [
       "<Figure size 432x288 with 1 Axes>"
      ]
     },
     "metadata": {
      "needs_background": "light"
     },
     "output_type": "display_data"
    },
    {
     "data": {
      "image/png": "[encoded data removed]",
      "text/plain": [
       "<Figure size 432x288 with 1 Axes>"
      ]
     },
     "metadata": {
      "needs_background": "light"
     },
     "output_type": "display_data"
    }
   ],
   "source": [
    "plt.plot(dateAxis[0:300], output.detach().numpy()[:, 0], color = 'blue')\n",
    "plt.plot( dateAxis[0:300], np.squeeze(Y_training[:, :, 0]), color = 'red')\n",
    "plt.show()\n",
    "\n",
    "error = prediction_error(output.detach().numpy()[:, 0], np.squeeze(Y_training[:, :, 0]))\n",
    "plt.plot(error, color = 'red')\n",
    "plt.show()"
   ]
  },
  {
   "cell_type": "code",
   "execution_count": 10,
   "id": "ef516011",
   "metadata": {},
   "outputs": [
    {
     "name": "stdout",
     "output_type": "stream",
     "text": [
      "NOISY\n"
     ]
    }
   ],
   "source": [
    "print(\"NOISY\")\n",
    "stdev = [0,0.001, 0.002, 0.003, 0.005, 0.01, 0.02, 0.03, 0.05,0.1]\n",
    "\n",
    "def NoisyTesting(dataset, sigma):\n",
    "    noisy_data = np.ndarray(shape=dataset.shape, dtype=np.float32)\n",
    "    #set seed for random numbers\n",
    "    random.seed(1)\n",
    "    for i in range(6):\n",
    "        s = np.random.normal(0, sigma, 18)\n",
    "        index = random.sample(list(range(180)), 18)\n",
    "        noisy_data[i] = dataset[i]\n",
    "        noisy_data[index, i, 0] = noisy_data[index, i, 0] + s\n",
    "    return noisy_data"
   ]
  },
  {
   "cell_type": "code",
   "execution_count": 11,
   "id": "bfd75ba2",
   "metadata": {},
   "outputs": [],
   "source": [
    "#predict next day (day_index = 0)\n",
    "day_index = 0\n",
    "out_temp = np.concatenate( (Y_test[:, :, day_index], Y_test[:, :, day_index], Y_test[:, :, day_index]), axis = 1)\n",
    "target = norm.inverse_transform(out_temp)[:, [0]]\n",
    "error_res_all = []\n",
    "for sigma in stdev:\n",
    "    noisy_data = NoisyTesting(X_test, sigma)\n",
    "    inputs = Variable(torch.from_numpy(noisy_data).float())\n",
    "    output, _ = RNN(inputs)\n",
    "    out_temp = np.concatenate((output.detach().numpy()[:, [day_index]], \n",
    "                               output.detach().numpy()[:, [day_index]],  \n",
    "                               output.detach().numpy()[:, [day_index]]), axis=1)\n",
    "    predicted_price = norm.inverse_transform(out_temp)[:, [0]]\n",
    "    error = prediction_error(target, predicted_price)\n",
    "    error_res_all.append(error.reshape(-1))\n"
   ]
  },
  {
   "cell_type": "code",
   "execution_count": 12,
   "id": "b4a22677",
   "metadata": {},
   "outputs": [
    {
     "data": {
      "text/html": [
       "<div>\n",
       "<style scoped>\n",
       "    .dataframe tbody tr th:only-of-type {\n",
       "        vertical-align: middle;\n",
       "    }\n",
       "\n",
       "    .dataframe tbody tr th {\n",
       "        vertical-align: top;\n",
       "    }\n",
       "\n",
       "    .dataframe thead th {\n",
       "        text-align: right;\n",
       "    }\n",
       "</style>\n",
       "<table border=\"1\" class=\"dataframe\">\n",
       "  <thead>\n",
       "    <tr style=\"text-align: right;\">\n",
       "      <th></th>\n",
       "      <th>0.000</th>\n",
       "      <th>0.001</th>\n",
       "      <th>0.002</th>\n",
       "      <th>0.003</th>\n",
       "      <th>0.005</th>\n",
       "      <th>0.010</th>\n",
       "      <th>0.020</th>\n",
       "      <th>0.030</th>\n",
       "      <th>0.050</th>\n",
       "      <th>0.100</th>\n",
       "    </tr>\n",
       "  </thead>\n",
       "  <tbody>\n",
       "    <tr>\n",
       "      <th>01/08/2006</th>\n",
       "      <td>0.019549</td>\n",
       "      <td>0.019574</td>\n",
       "      <td>0.019598</td>\n",
       "      <td>0.019524</td>\n",
       "      <td>0.019703</td>\n",
       "      <td>0.020043</td>\n",
       "      <td>0.019293</td>\n",
       "      <td>0.018978</td>\n",
       "      <td>0.019019</td>\n",
       "      <td>0.012141</td>\n",
       "    </tr>\n",
       "    <tr>\n",
       "      <th>01/09/2006</th>\n",
       "      <td>0.022772</td>\n",
       "      <td>0.022772</td>\n",
       "      <td>0.022772</td>\n",
       "      <td>0.022772</td>\n",
       "      <td>0.022772</td>\n",
       "      <td>0.022772</td>\n",
       "      <td>0.022772</td>\n",
       "      <td>0.022772</td>\n",
       "      <td>0.022772</td>\n",
       "      <td>0.022772</td>\n",
       "    </tr>\n",
       "    <tr>\n",
       "      <th>01/10/2006</th>\n",
       "      <td>0.033917</td>\n",
       "      <td>0.033917</td>\n",
       "      <td>0.033917</td>\n",
       "      <td>0.033917</td>\n",
       "      <td>0.033917</td>\n",
       "      <td>0.033917</td>\n",
       "      <td>0.033917</td>\n",
       "      <td>0.033917</td>\n",
       "      <td>0.033917</td>\n",
       "      <td>0.033917</td>\n",
       "    </tr>\n",
       "    <tr>\n",
       "      <th>01/11/2006</th>\n",
       "      <td>0.055348</td>\n",
       "      <td>0.055110</td>\n",
       "      <td>0.056601</td>\n",
       "      <td>0.055018</td>\n",
       "      <td>0.058257</td>\n",
       "      <td>0.052860</td>\n",
       "      <td>0.079492</td>\n",
       "      <td>0.028837</td>\n",
       "      <td>0.037571</td>\n",
       "      <td>0.122863</td>\n",
       "    </tr>\n",
       "    <tr>\n",
       "      <th>01/12/2006</th>\n",
       "      <td>0.076686</td>\n",
       "      <td>0.076686</td>\n",
       "      <td>0.076686</td>\n",
       "      <td>0.076686</td>\n",
       "      <td>0.076686</td>\n",
       "      <td>0.076686</td>\n",
       "      <td>0.076686</td>\n",
       "      <td>0.076686</td>\n",
       "      <td>0.076686</td>\n",
       "      <td>0.076686</td>\n",
       "    </tr>\n",
       "    <tr>\n",
       "      <th>...</th>\n",
       "      <td>...</td>\n",
       "      <td>...</td>\n",
       "      <td>...</td>\n",
       "      <td>...</td>\n",
       "      <td>...</td>\n",
       "      <td>...</td>\n",
       "      <td>...</td>\n",
       "      <td>...</td>\n",
       "      <td>...</td>\n",
       "      <td>...</td>\n",
       "    </tr>\n",
       "    <tr>\n",
       "      <th>01/08/2021</th>\n",
       "      <td>0.984110</td>\n",
       "      <td>0.562495</td>\n",
       "      <td>0.984110</td>\n",
       "      <td>0.984110</td>\n",
       "      <td>0.984110</td>\n",
       "      <td>0.984166</td>\n",
       "      <td>0.984365</td>\n",
       "      <td>0.984110</td>\n",
       "      <td>0.984365</td>\n",
       "      <td>0.984110</td>\n",
       "    </tr>\n",
       "    <tr>\n",
       "      <th>01/09/2021</th>\n",
       "      <td>0.984455</td>\n",
       "      <td>0.572003</td>\n",
       "      <td>0.984455</td>\n",
       "      <td>0.984455</td>\n",
       "      <td>0.984455</td>\n",
       "      <td>0.984416</td>\n",
       "      <td>0.984704</td>\n",
       "      <td>0.985636</td>\n",
       "      <td>0.984704</td>\n",
       "      <td>0.984455</td>\n",
       "    </tr>\n",
       "    <tr>\n",
       "      <th>01/10/2021</th>\n",
       "      <td>0.984801</td>\n",
       "      <td>0.581522</td>\n",
       "      <td>0.984801</td>\n",
       "      <td>0.984801</td>\n",
       "      <td>0.984801</td>\n",
       "      <td>0.984661</td>\n",
       "      <td>0.984857</td>\n",
       "      <td>0.251852</td>\n",
       "      <td>0.984857</td>\n",
       "      <td>0.984801</td>\n",
       "    </tr>\n",
       "    <tr>\n",
       "      <th>01/11/2021</th>\n",
       "      <td>0.985229</td>\n",
       "      <td>0.593312</td>\n",
       "      <td>0.985229</td>\n",
       "      <td>0.985229</td>\n",
       "      <td>0.985229</td>\n",
       "      <td>0.985229</td>\n",
       "      <td>0.985229</td>\n",
       "      <td>0.526582</td>\n",
       "      <td>0.985229</td>\n",
       "      <td>0.985229</td>\n",
       "    </tr>\n",
       "    <tr>\n",
       "      <th>01/12/2021</th>\n",
       "      <td>0.984492</td>\n",
       "      <td>0.318929</td>\n",
       "      <td>0.984492</td>\n",
       "      <td>0.984492</td>\n",
       "      <td>0.984492</td>\n",
       "      <td>0.984492</td>\n",
       "      <td>0.984492</td>\n",
       "      <td>1.009612</td>\n",
       "      <td>0.984492</td>\n",
       "      <td>0.984492</td>\n",
       "    </tr>\n",
       "  </tbody>\n",
       "</table>\n",
       "<p>185 rows × 10 columns</p>\n",
       "</div>"
      ],
      "text/plain": [
       "               0.000     0.001     0.002     0.003     0.005     0.010  \\\n",
       "01/08/2006  0.019549  0.019574  0.019598  0.019524  0.019703  0.020043   \n",
       "01/09/2006  0.022772  0.022772  0.022772  0.022772  0.022772  0.022772   \n",
       "01/10/2006  0.033917  0.033917  0.033917  0.033917  0.033917  0.033917   \n",
       "01/11/2006  0.055348  0.055110  0.056601  0.055018  0.058257  0.052860   \n",
       "01/12/2006  0.076686  0.076686  0.076686  0.076686  0.076686  0.076686   \n",
       "...              ...       ...       ...       ...       ...       ...   \n",
       "01/08/2021  0.984110  0.562495  0.984110  0.984110  0.984110  0.984166   \n",
       "01/09/2021  0.984455  0.572003  0.984455  0.984455  0.984455  0.984416   \n",
       "01/10/2021  0.984801  0.581522  0.984801  0.984801  0.984801  0.984661   \n",
       "01/11/2021  0.985229  0.593312  0.985229  0.985229  0.985229  0.985229   \n",
       "01/12/2021  0.984492  0.318929  0.984492  0.984492  0.984492  0.984492   \n",
       "\n",
       "               0.020     0.030     0.050     0.100  \n",
       "01/08/2006  0.019293  0.018978  0.019019  0.012141  \n",
       "01/09/2006  0.022772  0.022772  0.022772  0.022772  \n",
       "01/10/2006  0.033917  0.033917  0.033917  0.033917  \n",
       "01/11/2006  0.079492  0.028837  0.037571  0.122863  \n",
       "01/12/2006  0.076686  0.076686  0.076686  0.076686  \n",
       "...              ...       ...       ...       ...  \n",
       "01/08/2021  0.984365  0.984110  0.984365  0.984110  \n",
       "01/09/2021  0.984704  0.985636  0.984704  0.984455  \n",
       "01/10/2021  0.984857  0.251852  0.984857  0.984801  \n",
       "01/11/2021  0.985229  0.526582  0.985229  0.985229  \n",
       "01/12/2021  0.984492  1.009612  0.984492  0.984492  \n",
       "\n",
       "[185 rows x 10 columns]"
      ]
     },
     "execution_count": 12,
     "metadata": {},
     "output_type": "execute_result"
    }
   ],
   "source": [
    "labels = date_test[:,0]\n",
    "df_error=pd.DataFrame(error_res_all, columns=labels, index=stdev).T\n",
    "df_error"
   ]
  },
  {
   "cell_type": "code",
   "execution_count": 14,
   "id": "6ed2d19b",
   "metadata": {
    "scrolled": true
   },
   "outputs": [
    {
     "name": "stdout",
     "output_type": "stream",
     "text": [
      "(185, 1)\n",
      "(185,)\n",
      "()\n"
     ]
    },
    {
     "ename": "ValueError",
     "evalue": "x and y must have same first dimension, but have shapes (623,) and (185,)",
     "output_type": "error",
     "traceback": [
      "\u001b[1;31m---------------------------------------------------------------------------\u001b[0m",
      "\u001b[1;31mValueError\u001b[0m                                Traceback (most recent call last)",
      "\u001b[1;32m~\\AppData\\Local\\Temp/ipykernel_25948/3948016259.py\u001b[0m in \u001b[0;36m<module>\u001b[1;34m\u001b[0m\n\u001b[0;32m      5\u001b[0m     \u001b[0mprint\u001b[0m\u001b[1;33m(\u001b[0m\u001b[0mnp\u001b[0m\u001b[1;33m.\u001b[0m\u001b[0mshape\u001b[0m\u001b[1;33m(\u001b[0m\u001b[0merror_res_all\u001b[0m\u001b[1;33m[\u001b[0m\u001b[0mi\u001b[0m\u001b[1;33m]\u001b[0m\u001b[1;33m)\u001b[0m\u001b[1;33m)\u001b[0m\u001b[1;33m\u001b[0m\u001b[1;33m\u001b[0m\u001b[0m\n\u001b[0;32m      6\u001b[0m     \u001b[0mprint\u001b[0m\u001b[1;33m(\u001b[0m\u001b[0mnp\u001b[0m\u001b[1;33m.\u001b[0m\u001b[0mshape\u001b[0m\u001b[1;33m(\u001b[0m\u001b[0mcmaps\u001b[0m\u001b[1;33m[\u001b[0m\u001b[0mi\u001b[0m\u001b[1;33m]\u001b[0m\u001b[1;33m)\u001b[0m\u001b[1;33m)\u001b[0m\u001b[1;33m\u001b[0m\u001b[1;33m\u001b[0m\u001b[0m\n\u001b[1;32m----> 7\u001b[1;33m     \u001b[0mplt\u001b[0m\u001b[1;33m.\u001b[0m\u001b[0mplot\u001b[0m\u001b[1;33m(\u001b[0m\u001b[0mdateAxis\u001b[0m\u001b[1;33m,\u001b[0m \u001b[0merror_res_all\u001b[0m\u001b[1;33m[\u001b[0m\u001b[0mi\u001b[0m\u001b[1;33m]\u001b[0m\u001b[1;33m,\u001b[0m \u001b[0mcolor\u001b[0m\u001b[1;33m=\u001b[0m\u001b[0mcmaps\u001b[0m\u001b[1;33m[\u001b[0m\u001b[0mi\u001b[0m\u001b[1;33m]\u001b[0m\u001b[1;33m,\u001b[0m \u001b[0mlw\u001b[0m\u001b[1;33m=\u001b[0m\u001b[1;36m1\u001b[0m\u001b[1;33m,\u001b[0m \u001b[0mlabel\u001b[0m \u001b[1;33m=\u001b[0m \u001b[0mstdev\u001b[0m\u001b[1;33m[\u001b[0m\u001b[0mi\u001b[0m\u001b[1;33m]\u001b[0m\u001b[1;33m,\u001b[0m \u001b[0mmarker\u001b[0m\u001b[1;33m=\u001b[0m \u001b[1;34m'o'\u001b[0m\u001b[1;33m,\u001b[0m \u001b[0mlinestyle\u001b[0m\u001b[1;33m=\u001b[0m\u001b[1;34m'None'\u001b[0m\u001b[1;33m)\u001b[0m\u001b[1;33m\u001b[0m\u001b[1;33m\u001b[0m\u001b[0m\n\u001b[0m\u001b[0;32m      8\u001b[0m \u001b[1;33m\u001b[0m\u001b[0m\n\u001b[0;32m      9\u001b[0m \u001b[0mplt\u001b[0m\u001b[1;33m.\u001b[0m\u001b[0mxlabel\u001b[0m\u001b[1;33m(\u001b[0m\u001b[1;34m'Date'\u001b[0m\u001b[1;33m)\u001b[0m\u001b[1;33m\u001b[0m\u001b[1;33m\u001b[0m\u001b[0m\n",
      "\u001b[1;32mD:\\anaconda3\\lib\\site-packages\\matplotlib\\pyplot.py\u001b[0m in \u001b[0;36mplot\u001b[1;34m(scalex, scaley, data, *args, **kwargs)\u001b[0m\n\u001b[0;32m   3017\u001b[0m \u001b[1;33m@\u001b[0m\u001b[0m_copy_docstring_and_deprecators\u001b[0m\u001b[1;33m(\u001b[0m\u001b[0mAxes\u001b[0m\u001b[1;33m.\u001b[0m\u001b[0mplot\u001b[0m\u001b[1;33m)\u001b[0m\u001b[1;33m\u001b[0m\u001b[1;33m\u001b[0m\u001b[0m\n\u001b[0;32m   3018\u001b[0m \u001b[1;32mdef\u001b[0m \u001b[0mplot\u001b[0m\u001b[1;33m(\u001b[0m\u001b[1;33m*\u001b[0m\u001b[0margs\u001b[0m\u001b[1;33m,\u001b[0m \u001b[0mscalex\u001b[0m\u001b[1;33m=\u001b[0m\u001b[1;32mTrue\u001b[0m\u001b[1;33m,\u001b[0m \u001b[0mscaley\u001b[0m\u001b[1;33m=\u001b[0m\u001b[1;32mTrue\u001b[0m\u001b[1;33m,\u001b[0m \u001b[0mdata\u001b[0m\u001b[1;33m=\u001b[0m\u001b[1;32mNone\u001b[0m\u001b[1;33m,\u001b[0m \u001b[1;33m**\u001b[0m\u001b[0mkwargs\u001b[0m\u001b[1;33m)\u001b[0m\u001b[1;33m:\u001b[0m\u001b[1;33m\u001b[0m\u001b[1;33m\u001b[0m\u001b[0m\n\u001b[1;32m-> 3019\u001b[1;33m     return gca().plot(\n\u001b[0m\u001b[0;32m   3020\u001b[0m         \u001b[1;33m*\u001b[0m\u001b[0margs\u001b[0m\u001b[1;33m,\u001b[0m \u001b[0mscalex\u001b[0m\u001b[1;33m=\u001b[0m\u001b[0mscalex\u001b[0m\u001b[1;33m,\u001b[0m \u001b[0mscaley\u001b[0m\u001b[1;33m=\u001b[0m\u001b[0mscaley\u001b[0m\u001b[1;33m,\u001b[0m\u001b[1;33m\u001b[0m\u001b[1;33m\u001b[0m\u001b[0m\n\u001b[0;32m   3021\u001b[0m         **({\"data\": data} if data is not None else {}), **kwargs)\n",
      "\u001b[1;32mD:\\anaconda3\\lib\\site-packages\\matplotlib\\axes\\_axes.py\u001b[0m in \u001b[0;36mplot\u001b[1;34m(self, scalex, scaley, data, *args, **kwargs)\u001b[0m\n\u001b[0;32m   1603\u001b[0m         \"\"\"\n\u001b[0;32m   1604\u001b[0m         \u001b[0mkwargs\u001b[0m \u001b[1;33m=\u001b[0m \u001b[0mcbook\u001b[0m\u001b[1;33m.\u001b[0m\u001b[0mnormalize_kwargs\u001b[0m\u001b[1;33m(\u001b[0m\u001b[0mkwargs\u001b[0m\u001b[1;33m,\u001b[0m \u001b[0mmlines\u001b[0m\u001b[1;33m.\u001b[0m\u001b[0mLine2D\u001b[0m\u001b[1;33m)\u001b[0m\u001b[1;33m\u001b[0m\u001b[1;33m\u001b[0m\u001b[0m\n\u001b[1;32m-> 1605\u001b[1;33m         \u001b[0mlines\u001b[0m \u001b[1;33m=\u001b[0m \u001b[1;33m[\u001b[0m\u001b[1;33m*\u001b[0m\u001b[0mself\u001b[0m\u001b[1;33m.\u001b[0m\u001b[0m_get_lines\u001b[0m\u001b[1;33m(\u001b[0m\u001b[1;33m*\u001b[0m\u001b[0margs\u001b[0m\u001b[1;33m,\u001b[0m \u001b[0mdata\u001b[0m\u001b[1;33m=\u001b[0m\u001b[0mdata\u001b[0m\u001b[1;33m,\u001b[0m \u001b[1;33m**\u001b[0m\u001b[0mkwargs\u001b[0m\u001b[1;33m)\u001b[0m\u001b[1;33m]\u001b[0m\u001b[1;33m\u001b[0m\u001b[1;33m\u001b[0m\u001b[0m\n\u001b[0m\u001b[0;32m   1606\u001b[0m         \u001b[1;32mfor\u001b[0m \u001b[0mline\u001b[0m \u001b[1;32min\u001b[0m \u001b[0mlines\u001b[0m\u001b[1;33m:\u001b[0m\u001b[1;33m\u001b[0m\u001b[1;33m\u001b[0m\u001b[0m\n\u001b[0;32m   1607\u001b[0m             \u001b[0mself\u001b[0m\u001b[1;33m.\u001b[0m\u001b[0madd_line\u001b[0m\u001b[1;33m(\u001b[0m\u001b[0mline\u001b[0m\u001b[1;33m)\u001b[0m\u001b[1;33m\u001b[0m\u001b[1;33m\u001b[0m\u001b[0m\n",
      "\u001b[1;32mD:\\anaconda3\\lib\\site-packages\\matplotlib\\axes\\_base.py\u001b[0m in \u001b[0;36m__call__\u001b[1;34m(self, data, *args, **kwargs)\u001b[0m\n\u001b[0;32m    313\u001b[0m                 \u001b[0mthis\u001b[0m \u001b[1;33m+=\u001b[0m \u001b[0margs\u001b[0m\u001b[1;33m[\u001b[0m\u001b[1;36m0\u001b[0m\u001b[1;33m]\u001b[0m\u001b[1;33m,\u001b[0m\u001b[1;33m\u001b[0m\u001b[1;33m\u001b[0m\u001b[0m\n\u001b[0;32m    314\u001b[0m                 \u001b[0margs\u001b[0m \u001b[1;33m=\u001b[0m \u001b[0margs\u001b[0m\u001b[1;33m[\u001b[0m\u001b[1;36m1\u001b[0m\u001b[1;33m:\u001b[0m\u001b[1;33m]\u001b[0m\u001b[1;33m\u001b[0m\u001b[1;33m\u001b[0m\u001b[0m\n\u001b[1;32m--> 315\u001b[1;33m             \u001b[1;32myield\u001b[0m \u001b[1;32mfrom\u001b[0m \u001b[0mself\u001b[0m\u001b[1;33m.\u001b[0m\u001b[0m_plot_args\u001b[0m\u001b[1;33m(\u001b[0m\u001b[0mthis\u001b[0m\u001b[1;33m,\u001b[0m \u001b[0mkwargs\u001b[0m\u001b[1;33m)\u001b[0m\u001b[1;33m\u001b[0m\u001b[1;33m\u001b[0m\u001b[0m\n\u001b[0m\u001b[0;32m    316\u001b[0m \u001b[1;33m\u001b[0m\u001b[0m\n\u001b[0;32m    317\u001b[0m     \u001b[1;32mdef\u001b[0m \u001b[0mget_next_color\u001b[0m\u001b[1;33m(\u001b[0m\u001b[0mself\u001b[0m\u001b[1;33m)\u001b[0m\u001b[1;33m:\u001b[0m\u001b[1;33m\u001b[0m\u001b[1;33m\u001b[0m\u001b[0m\n",
      "\u001b[1;32mD:\\anaconda3\\lib\\site-packages\\matplotlib\\axes\\_base.py\u001b[0m in \u001b[0;36m_plot_args\u001b[1;34m(self, tup, kwargs, return_kwargs)\u001b[0m\n\u001b[0;32m    499\u001b[0m \u001b[1;33m\u001b[0m\u001b[0m\n\u001b[0;32m    500\u001b[0m         \u001b[1;32mif\u001b[0m \u001b[0mx\u001b[0m\u001b[1;33m.\u001b[0m\u001b[0mshape\u001b[0m\u001b[1;33m[\u001b[0m\u001b[1;36m0\u001b[0m\u001b[1;33m]\u001b[0m \u001b[1;33m!=\u001b[0m \u001b[0my\u001b[0m\u001b[1;33m.\u001b[0m\u001b[0mshape\u001b[0m\u001b[1;33m[\u001b[0m\u001b[1;36m0\u001b[0m\u001b[1;33m]\u001b[0m\u001b[1;33m:\u001b[0m\u001b[1;33m\u001b[0m\u001b[1;33m\u001b[0m\u001b[0m\n\u001b[1;32m--> 501\u001b[1;33m             raise ValueError(f\"x and y must have same first dimension, but \"\n\u001b[0m\u001b[0;32m    502\u001b[0m                              f\"have shapes {x.shape} and {y.shape}\")\n\u001b[0;32m    503\u001b[0m         \u001b[1;32mif\u001b[0m \u001b[0mx\u001b[0m\u001b[1;33m.\u001b[0m\u001b[0mndim\u001b[0m \u001b[1;33m>\u001b[0m \u001b[1;36m2\u001b[0m \u001b[1;32mor\u001b[0m \u001b[0my\u001b[0m\u001b[1;33m.\u001b[0m\u001b[0mndim\u001b[0m \u001b[1;33m>\u001b[0m \u001b[1;36m2\u001b[0m\u001b[1;33m:\u001b[0m\u001b[1;33m\u001b[0m\u001b[1;33m\u001b[0m\u001b[0m\n",
      "\u001b[1;31mValueError\u001b[0m: x and y must have same first dimension, but have shapes (623,) and (185,)"
     ]
    },
    {
     "data": {
      "image/png": "[encoded data removed]",
      "text/plain": [
       "<Figure size 1080x360 with 1 Axes>"
      ]
     },
     "metadata": {
      "needs_background": "light"
     },
     "output_type": "display_data"
    }
   ],
   "source": [
    "cmaps= ['red','purple', 'green', 'orange',  'yellow', 'pink', 'grey', 'brown', 'black','blue' ]\n",
    "plt.figure(1, figsize=(15, 5))\n",
    "for i in range(len(stdev)): \n",
    "    print(np.shape(date_test))\n",
    "    print(np.shape(error_res_all[i]))\n",
    "    print(np.shape(cmaps[i]))\n",
    "    plt.plot(dateAxis, error_res_all[i], color=cmaps[i], lw=1, label = stdev[i], marker= 'o', linestyle='None')  \n",
    "\n",
    "plt.xlabel('Date')\n",
    "plt.ylabel('Prediction error')\n",
    "plt.title('Prediction error with Different Noise Levels (next one day)')\n",
    "plt.legend(loc=\"lower right\") "
   ]
  },
  {
   "cell_type": "code",
   "execution_count": 15,
   "id": "e3650a39",
   "metadata": {},
   "outputs": [
    {
     "ename": "ValueError",
     "evalue": "x and y must have same first dimension, but have shapes (623,) and (185,)",
     "output_type": "error",
     "traceback": [
      "\u001b[1;31m---------------------------------------------------------------------------\u001b[0m",
      "\u001b[1;31mValueError\u001b[0m                                Traceback (most recent call last)",
      "\u001b[1;32m~\\AppData\\Local\\Temp/ipykernel_25948/2119878367.py\u001b[0m in \u001b[0;36m<module>\u001b[1;34m\u001b[0m\n\u001b[0;32m      1\u001b[0m \u001b[1;32mfor\u001b[0m \u001b[0mi\u001b[0m \u001b[1;32min\u001b[0m \u001b[0mrange\u001b[0m\u001b[1;33m(\u001b[0m\u001b[0mlen\u001b[0m\u001b[1;33m(\u001b[0m\u001b[0mstdev\u001b[0m\u001b[1;33m)\u001b[0m\u001b[1;33m)\u001b[0m\u001b[1;33m:\u001b[0m\u001b[1;33m\u001b[0m\u001b[1;33m\u001b[0m\u001b[0m\n\u001b[0;32m      2\u001b[0m     \u001b[0mplt\u001b[0m\u001b[1;33m.\u001b[0m\u001b[0mfigure\u001b[0m\u001b[1;33m(\u001b[0m\u001b[1;36m1\u001b[0m\u001b[1;33m,\u001b[0m \u001b[0mfigsize\u001b[0m\u001b[1;33m=\u001b[0m\u001b[1;33m(\u001b[0m\u001b[1;36m15\u001b[0m\u001b[1;33m,\u001b[0m \u001b[1;36m5\u001b[0m\u001b[1;33m)\u001b[0m\u001b[1;33m)\u001b[0m\u001b[1;33m\u001b[0m\u001b[1;33m\u001b[0m\u001b[0m\n\u001b[1;32m----> 3\u001b[1;33m     \u001b[0mplt\u001b[0m\u001b[1;33m.\u001b[0m\u001b[0mplot\u001b[0m\u001b[1;33m(\u001b[0m\u001b[0mdateAxis\u001b[0m\u001b[1;33m,\u001b[0m \u001b[0merror_res_all\u001b[0m\u001b[1;33m[\u001b[0m\u001b[0mi\u001b[0m\u001b[1;33m]\u001b[0m\u001b[1;33m,\u001b[0m \u001b[0mcolor\u001b[0m\u001b[1;33m=\u001b[0m\u001b[0mcmaps\u001b[0m\u001b[1;33m[\u001b[0m\u001b[0mi\u001b[0m\u001b[1;33m]\u001b[0m\u001b[1;33m,\u001b[0m \u001b[0mlw\u001b[0m\u001b[1;33m=\u001b[0m\u001b[1;36m1\u001b[0m\u001b[1;33m,\u001b[0m \u001b[0mlabel\u001b[0m \u001b[1;33m=\u001b[0m \u001b[0mstdev\u001b[0m\u001b[1;33m[\u001b[0m\u001b[0mi\u001b[0m\u001b[1;33m]\u001b[0m\u001b[1;33m,\u001b[0m \u001b[0mmarker\u001b[0m\u001b[1;33m=\u001b[0m \u001b[1;34m'o'\u001b[0m\u001b[1;33m,\u001b[0m \u001b[0mlinestyle\u001b[0m\u001b[1;33m=\u001b[0m\u001b[1;34m'None'\u001b[0m\u001b[1;33m)\u001b[0m\u001b[1;33m\u001b[0m\u001b[1;33m\u001b[0m\u001b[0m\n\u001b[0m\u001b[0;32m      4\u001b[0m     \u001b[0mplt\u001b[0m\u001b[1;33m.\u001b[0m\u001b[0mxlabel\u001b[0m\u001b[1;33m(\u001b[0m\u001b[1;34m'Date'\u001b[0m\u001b[1;33m)\u001b[0m\u001b[1;33m\u001b[0m\u001b[1;33m\u001b[0m\u001b[0m\n\u001b[0;32m      5\u001b[0m     \u001b[0mplt\u001b[0m\u001b[1;33m.\u001b[0m\u001b[0mylabel\u001b[0m\u001b[1;33m(\u001b[0m\u001b[1;34m'Prediction error'\u001b[0m\u001b[1;33m)\u001b[0m\u001b[1;33m\u001b[0m\u001b[1;33m\u001b[0m\u001b[0m\n",
      "\u001b[1;32mD:\\anaconda3\\lib\\site-packages\\matplotlib\\pyplot.py\u001b[0m in \u001b[0;36mplot\u001b[1;34m(scalex, scaley, data, *args, **kwargs)\u001b[0m\n\u001b[0;32m   3017\u001b[0m \u001b[1;33m@\u001b[0m\u001b[0m_copy_docstring_and_deprecators\u001b[0m\u001b[1;33m(\u001b[0m\u001b[0mAxes\u001b[0m\u001b[1;33m.\u001b[0m\u001b[0mplot\u001b[0m\u001b[1;33m)\u001b[0m\u001b[1;33m\u001b[0m\u001b[1;33m\u001b[0m\u001b[0m\n\u001b[0;32m   3018\u001b[0m \u001b[1;32mdef\u001b[0m \u001b[0mplot\u001b[0m\u001b[1;33m(\u001b[0m\u001b[1;33m*\u001b[0m\u001b[0margs\u001b[0m\u001b[1;33m,\u001b[0m \u001b[0mscalex\u001b[0m\u001b[1;33m=\u001b[0m\u001b[1;32mTrue\u001b[0m\u001b[1;33m,\u001b[0m \u001b[0mscaley\u001b[0m\u001b[1;33m=\u001b[0m\u001b[1;32mTrue\u001b[0m\u001b[1;33m,\u001b[0m \u001b[0mdata\u001b[0m\u001b[1;33m=\u001b[0m\u001b[1;32mNone\u001b[0m\u001b[1;33m,\u001b[0m \u001b[1;33m**\u001b[0m\u001b[0mkwargs\u001b[0m\u001b[1;33m)\u001b[0m\u001b[1;33m:\u001b[0m\u001b[1;33m\u001b[0m\u001b[1;33m\u001b[0m\u001b[0m\n\u001b[1;32m-> 3019\u001b[1;33m     return gca().plot(\n\u001b[0m\u001b[0;32m   3020\u001b[0m         \u001b[1;33m*\u001b[0m\u001b[0margs\u001b[0m\u001b[1;33m,\u001b[0m \u001b[0mscalex\u001b[0m\u001b[1;33m=\u001b[0m\u001b[0mscalex\u001b[0m\u001b[1;33m,\u001b[0m \u001b[0mscaley\u001b[0m\u001b[1;33m=\u001b[0m\u001b[0mscaley\u001b[0m\u001b[1;33m,\u001b[0m\u001b[1;33m\u001b[0m\u001b[1;33m\u001b[0m\u001b[0m\n\u001b[0;32m   3021\u001b[0m         **({\"data\": data} if data is not None else {}), **kwargs)\n",
      "\u001b[1;32mD:\\anaconda3\\lib\\site-packages\\matplotlib\\axes\\_axes.py\u001b[0m in \u001b[0;36mplot\u001b[1;34m(self, scalex, scaley, data, *args, **kwargs)\u001b[0m\n\u001b[0;32m   1603\u001b[0m         \"\"\"\n\u001b[0;32m   1604\u001b[0m         \u001b[0mkwargs\u001b[0m \u001b[1;33m=\u001b[0m \u001b[0mcbook\u001b[0m\u001b[1;33m.\u001b[0m\u001b[0mnormalize_kwargs\u001b[0m\u001b[1;33m(\u001b[0m\u001b[0mkwargs\u001b[0m\u001b[1;33m,\u001b[0m \u001b[0mmlines\u001b[0m\u001b[1;33m.\u001b[0m\u001b[0mLine2D\u001b[0m\u001b[1;33m)\u001b[0m\u001b[1;33m\u001b[0m\u001b[1;33m\u001b[0m\u001b[0m\n\u001b[1;32m-> 1605\u001b[1;33m         \u001b[0mlines\u001b[0m \u001b[1;33m=\u001b[0m \u001b[1;33m[\u001b[0m\u001b[1;33m*\u001b[0m\u001b[0mself\u001b[0m\u001b[1;33m.\u001b[0m\u001b[0m_get_lines\u001b[0m\u001b[1;33m(\u001b[0m\u001b[1;33m*\u001b[0m\u001b[0margs\u001b[0m\u001b[1;33m,\u001b[0m \u001b[0mdata\u001b[0m\u001b[1;33m=\u001b[0m\u001b[0mdata\u001b[0m\u001b[1;33m,\u001b[0m \u001b[1;33m**\u001b[0m\u001b[0mkwargs\u001b[0m\u001b[1;33m)\u001b[0m\u001b[1;33m]\u001b[0m\u001b[1;33m\u001b[0m\u001b[1;33m\u001b[0m\u001b[0m\n\u001b[0m\u001b[0;32m   1606\u001b[0m         \u001b[1;32mfor\u001b[0m \u001b[0mline\u001b[0m \u001b[1;32min\u001b[0m \u001b[0mlines\u001b[0m\u001b[1;33m:\u001b[0m\u001b[1;33m\u001b[0m\u001b[1;33m\u001b[0m\u001b[0m\n\u001b[0;32m   1607\u001b[0m             \u001b[0mself\u001b[0m\u001b[1;33m.\u001b[0m\u001b[0madd_line\u001b[0m\u001b[1;33m(\u001b[0m\u001b[0mline\u001b[0m\u001b[1;33m)\u001b[0m\u001b[1;33m\u001b[0m\u001b[1;33m\u001b[0m\u001b[0m\n",
      "\u001b[1;32mD:\\anaconda3\\lib\\site-packages\\matplotlib\\axes\\_base.py\u001b[0m in \u001b[0;36m__call__\u001b[1;34m(self, data, *args, **kwargs)\u001b[0m\n\u001b[0;32m    313\u001b[0m                 \u001b[0mthis\u001b[0m \u001b[1;33m+=\u001b[0m \u001b[0margs\u001b[0m\u001b[1;33m[\u001b[0m\u001b[1;36m0\u001b[0m\u001b[1;33m]\u001b[0m\u001b[1;33m,\u001b[0m\u001b[1;33m\u001b[0m\u001b[1;33m\u001b[0m\u001b[0m\n\u001b[0;32m    314\u001b[0m                 \u001b[0margs\u001b[0m \u001b[1;33m=\u001b[0m \u001b[0margs\u001b[0m\u001b[1;33m[\u001b[0m\u001b[1;36m1\u001b[0m\u001b[1;33m:\u001b[0m\u001b[1;33m]\u001b[0m\u001b[1;33m\u001b[0m\u001b[1;33m\u001b[0m\u001b[0m\n\u001b[1;32m--> 315\u001b[1;33m             \u001b[1;32myield\u001b[0m \u001b[1;32mfrom\u001b[0m \u001b[0mself\u001b[0m\u001b[1;33m.\u001b[0m\u001b[0m_plot_args\u001b[0m\u001b[1;33m(\u001b[0m\u001b[0mthis\u001b[0m\u001b[1;33m,\u001b[0m \u001b[0mkwargs\u001b[0m\u001b[1;33m)\u001b[0m\u001b[1;33m\u001b[0m\u001b[1;33m\u001b[0m\u001b[0m\n\u001b[0m\u001b[0;32m    316\u001b[0m \u001b[1;33m\u001b[0m\u001b[0m\n\u001b[0;32m    317\u001b[0m     \u001b[1;32mdef\u001b[0m \u001b[0mget_next_color\u001b[0m\u001b[1;33m(\u001b[0m\u001b[0mself\u001b[0m\u001b[1;33m)\u001b[0m\u001b[1;33m:\u001b[0m\u001b[1;33m\u001b[0m\u001b[1;33m\u001b[0m\u001b[0m\n",
      "\u001b[1;32mD:\\anaconda3\\lib\\site-packages\\matplotlib\\axes\\_base.py\u001b[0m in \u001b[0;36m_plot_args\u001b[1;34m(self, tup, kwargs, return_kwargs)\u001b[0m\n\u001b[0;32m    499\u001b[0m \u001b[1;33m\u001b[0m\u001b[0m\n\u001b[0;32m    500\u001b[0m         \u001b[1;32mif\u001b[0m \u001b[0mx\u001b[0m\u001b[1;33m.\u001b[0m\u001b[0mshape\u001b[0m\u001b[1;33m[\u001b[0m\u001b[1;36m0\u001b[0m\u001b[1;33m]\u001b[0m \u001b[1;33m!=\u001b[0m \u001b[0my\u001b[0m\u001b[1;33m.\u001b[0m\u001b[0mshape\u001b[0m\u001b[1;33m[\u001b[0m\u001b[1;36m0\u001b[0m\u001b[1;33m]\u001b[0m\u001b[1;33m:\u001b[0m\u001b[1;33m\u001b[0m\u001b[1;33m\u001b[0m\u001b[0m\n\u001b[1;32m--> 501\u001b[1;33m             raise ValueError(f\"x and y must have same first dimension, but \"\n\u001b[0m\u001b[0;32m    502\u001b[0m                              f\"have shapes {x.shape} and {y.shape}\")\n\u001b[0;32m    503\u001b[0m         \u001b[1;32mif\u001b[0m \u001b[0mx\u001b[0m\u001b[1;33m.\u001b[0m\u001b[0mndim\u001b[0m \u001b[1;33m>\u001b[0m \u001b[1;36m2\u001b[0m \u001b[1;32mor\u001b[0m \u001b[0my\u001b[0m\u001b[1;33m.\u001b[0m\u001b[0mndim\u001b[0m \u001b[1;33m>\u001b[0m \u001b[1;36m2\u001b[0m\u001b[1;33m:\u001b[0m\u001b[1;33m\u001b[0m\u001b[1;33m\u001b[0m\u001b[0m\n",
      "\u001b[1;31mValueError\u001b[0m: x and y must have same first dimension, but have shapes (623,) and (185,)"
     ]
    },
    {
     "data": {
      "image/png": "[encoded data removed]",
      "text/plain": [
       "<Figure size 1080x360 with 1 Axes>"
      ]
     },
     "metadata": {
      "needs_background": "light"
     },
     "output_type": "display_data"
    }
   ],
   "source": [
    "for i in range(len(stdev)): \n",
    "    plt.figure(1, figsize=(15, 5))\n",
    "    plt.plot(dateAxis, error_res_all[i], color=cmaps[i], lw=1, label = stdev[i], marker= 'o', linestyle='None')  \n",
    "    plt.xlabel('Date')\n",
    "    plt.ylabel('Prediction error')\n",
    "    plt.title('Prediction error with Different Noise Levels (next one day)')\n",
    "    plt.legend(loc=\"lower right\")  \n",
    "    plt.show()"
   ]
  },
  {
   "cell_type": "code",
   "execution_count": null,
   "id": "34468adf",
   "metadata": {},
   "outputs": [],
   "source": []
  }
 ],
 "metadata": {
  "kernelspec": {
   "display_name": "Python 3 (ipykernel)",
   "language": "python",
   "name": "python3"
  },
  "language_info": {
   "codemirror_mode": {
    "name": "ipython",
    "version": 3
   },
   "file_extension": ".py",
   "mimetype": "text/x-python",
   "name": "python",
   "nbconvert_exporter": "python",
   "pygments_lexer": "ipython3",
   "version": "3.9.7"
  }
 },
 "nbformat": 4,
 "nbformat_minor": 5
}
