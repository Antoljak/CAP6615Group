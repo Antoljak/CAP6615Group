{
 "cells": [
  {
   "cell_type": "code",
   "execution_count": 1,
   "id": "c0f01c58",
   "metadata": {},
   "outputs": [
    {
     "name": "stdout",
     "output_type": "stream",
     "text": [
      "           Date    Price     Open     High      Low Vol.  Change %\n",
      "0    01/12/2021  4766.18  4623.80  4808.52  4494.20    -    0.0436\n",
      "1    01/11/2021  4567.00  4616.47  4743.74  4560.26    -   -0.0083\n",
      "2    01/10/2021  4605.38  4324.71  4608.70  4278.70    -    0.0691\n",
      "3    01/09/2021  4307.54  4531.04  4544.58  4304.90    -   -0.0476\n",
      "4    01/08/2021  4522.68  4415.90  4537.80  4369.20    -    0.0290\n",
      "..          ...      ...      ...      ...      ...  ...       ...\n",
      "618  01/06/1970    72.72    76.55    79.96    72.25    -   -0.0500\n",
      "619  01/05/1970    76.55    81.52    82.32    68.61    -   -0.0610\n",
      "620  01/04/1970    81.52    89.63    90.70    79.31    -   -0.0905\n",
      "621  01/03/1970    89.63    89.50    91.07    86.19    -    0.0015\n",
      "622  01/02/1970    89.50    85.02    90.33    84.64    -    0.0527\n",
      "\n",
      "[623 rows x 7 columns]\n"
     ]
    }
   ],
   "source": [
    "import numpy as np\n",
    "import pandas\n",
    "import torch\n",
    "import torch.nn as nn\n",
    "from torch.autograd import Variable\n",
    "from sklearn.preprocessing import MinMaxScaler\n",
    "from sklearn.model_selection import train_test_split\n",
    "import matplotlib.pyplot as plt\n",
    "dataframe = pandas.read_csv(\"SP500DATA.csv\")\n",
    "print(dataframe)# Text file data converted to integer data type"
   ]
  },
  {
   "cell_type": "code",
   "execution_count": 2,
   "id": "653db769",
   "metadata": {
    "scrolled": true
   },
   "outputs": [],
   "source": [
    "trainData = dataframe[[\"Price\", \"Open\"]].to_numpy(dtype = 'float')\n",
    "targetData = dataframe[[\"Price\"]].to_numpy(dtype = 'float')\n",
    "date = dataframe[[\"Date\"]].to_numpy(dtype = \"str\")\n",
    "\n",
    "norm = MinMaxScaler(feature_range = (0, 1))\n",
    "trainData = norm.fit_transform(trainData)\n",
    "targetData = norm.fit_transform(targetData)\n",
    "trainData = np.flip(trainData)\n",
    "targetData = np.flip(targetData)\n",
    "date = np.flip(date)\n",
    "\n",
    "dateAxis = []\n",
    "for i in range(date.shape[0]):\n",
    "    dateAxis.append(float(np.squeeze(date)[i][6:10]) + float(np.squeeze(date)[i][3:5])/12.0)"
   ]
  },
  {
   "cell_type": "code",
   "execution_count": 3,
   "id": "afd0b4d1",
   "metadata": {},
   "outputs": [],
   "source": [
    "X = []\n",
    "Y = []\n",
    "for i in range(trainData.shape[0] - 5 - 4):\n",
    "    X.append(trainData[i:i+6])\n",
    "    Y.append(targetData[i+6:i+6+4])\n",
    "X = np.array(X)\n",
    "Y = np.array(Y)\n",
    "Y = np.swapaxes(Y, 1, 2)"
   ]
  },
  {
   "cell_type": "code",
   "execution_count": 4,
   "id": "307b24dc",
   "metadata": {},
   "outputs": [],
   "source": [
    "X_fullTraining = []\n",
    "X_training = []\n",
    "X_validation = []\n",
    "X_test = []\n",
    "Y_fullTraining = []\n",
    "Y_training = []\n",
    "Y_validation = []\n",
    "Y_test = []\n",
    "\n",
    "X_fullTraining, X_test, Y_fullTraining, Y_test = train_test_split(X, Y, test_size=0.3, shuffle=False)\n",
    "X_training, X_validation, Y_training, Y_validation = train_test_split(X_fullTraining, Y_fullTraining, test_size=0.3, shuffle=False)\n"
   ]
  },
  {
   "cell_type": "code",
   "execution_count": 5,
   "id": "8ecc1d8b",
   "metadata": {},
   "outputs": [],
   "source": [
    "class Model(nn.Module):\n",
    "    def __init__(self, input_size, output_size, hidden_dim, n_layers):\n",
    "        super(Model, self).__init__()\n",
    "\n",
    "        self.hidden_dim = hidden_dim\n",
    "        self.n_layers = n_layers\n",
    "\n",
    "        self.rnn = nn.RNN(input_size, hidden_dim, n_layers, batch_first=True)   \n",
    "\n",
    "        self.fc = nn.Linear(hidden_dim, output_size)\n",
    "    \n",
    "    def forward(self, x):\n",
    "        \n",
    "        batch_size = x.size(0)\n",
    "\n",
    "        hidden = self.init_hidden(batch_size)\n",
    "\n",
    "        out, hidden = self.rnn(x, hidden)\n",
    "    \n",
    "        out = self.fc(out)\n",
    "    \n",
    "        return out[:, -1, :], hidden\n",
    "    \n",
    "    def init_hidden(self, batch_size):\n",
    "        hidden = torch.zeros(self.n_layers, batch_size, self.hidden_dim)\n",
    "        return hidden"
   ]
  },
  {
   "cell_type": "code",
   "execution_count": 6,
   "id": "17ae4152",
   "metadata": {},
   "outputs": [
    {
     "data": {
      "text/plain": [
       "Model(\n",
       "  (rnn): RNN(2, 16, batch_first=True)\n",
       "  (fc): Linear(in_features=16, out_features=4, bias=True)\n",
       ")"
      ]
     },
     "execution_count": 6,
     "metadata": {},
     "output_type": "execute_result"
    }
   ],
   "source": [
    "RNN = Model(input_size=2, output_size=4, hidden_dim=16, n_layers=1)\n",
    "optimizer = torch.optim.Adam(RNN.parameters(), lr=0.01)\n",
    "criterion = nn.MSELoss()\n",
    "RNN"
   ]
  },
  {
   "cell_type": "code",
   "execution_count": 7,
   "id": "4547bc99",
   "metadata": {},
   "outputs": [
    {
     "name": "stdout",
     "output_type": "stream",
     "text": [
      "Epoch: 0/100............. Loss: 0.053243763744831085\n",
      "Epoch: 10/100............. Loss: 0.0018149401294067502\n",
      "Epoch: 20/100............. Loss: 0.0008597101550549269\n",
      "Epoch: 30/100............. Loss: 0.0006558638997375965\n",
      "Epoch: 40/100............. Loss: 0.0005263120401650667\n",
      "Epoch: 50/100............. Loss: 0.0004131472669541836\n",
      "Epoch: 60/100............. Loss: 0.00031904157367534935\n",
      "Epoch: 70/100............. Loss: 0.00023311468248721212\n",
      "Epoch: 80/100............. Loss: 0.00015635961608495563\n",
      "Epoch: 90/100............. Loss: 9.33584597078152e-05\n"
     ]
    }
   ],
   "source": [
    "xTensor = torch.from_numpy(X_training).float()\n",
    "yTensor = torch.Tensor(Y_training).float()\n",
    "\n",
    "for epoch in range(100):\n",
    "    optimizer.zero_grad()\n",
    "    \n",
    "    output, hidden = RNN(xTensor)\n",
    "    loss = criterion(output.reshape(-1), yTensor.view(-1))\n",
    "    loss.backward()\n",
    "    \n",
    "    optimizer.step()\n",
    "    \n",
    "    if epoch%10 == 0:\n",
    "        print('Epoch: {}/{}.............'.format(epoch, 100), end=' ')\n",
    "        print(\"Loss:\", loss.item())"
   ]
  },
  {
   "cell_type": "code",
   "execution_count": 8,
   "id": "17d12cb3",
   "metadata": {},
   "outputs": [],
   "source": [
    "def prediction_error(pred, actual):\n",
    "    return abs(pred - actual)/pred"
   ]
  },
  {
   "cell_type": "code",
   "execution_count": 11,
   "id": "a07505ee",
   "metadata": {
    "scrolled": false
   },
   "outputs": [
    {
     "data": {
      "image/png": "[encoded data removed]",
      "text/plain": [
       "<Figure size 432x288 with 1 Axes>"
      ]
     },
     "metadata": {
      "needs_background": "light"
     },
     "output_type": "display_data"
    },
    {
     "data": {
      "image/png": "[encoded data removed]",
      "text/plain": [
       "<Figure size 432x288 with 1 Axes>"
      ]
     },
     "metadata": {
      "needs_background": "light"
     },
     "output_type": "display_data"
    }
   ],
   "source": [
    "plt.plot(dateAxis[0:300], output.detach().numpy()[:, 0], color = 'blue')\n",
    "plt.plot( dateAxis[0:300], np.squeeze(Y_training[:, :, 0]), color = 'red')\n",
    "plt.show()\n",
    "\n",
    "error = prediction_error(output.detach().numpy()[:, 0], np.squeeze(Y_training[:, :, 0]))\n",
    "plt.plot(error, color = 'red')\n",
    "plt.show()"
   ]
  },
  {
   "cell_type": "code",
   "execution_count": null,
   "id": "edec1b57",
   "metadata": {},
   "outputs": [],
   "source": []
  }
 ],
 "metadata": {
  "kernelspec": {
   "display_name": "Python 3 (ipykernel)",
   "language": "python",
   "name": "python3"
  },
  "language_info": {
   "codemirror_mode": {
    "name": "ipython",
    "version": 3
   },
   "file_extension": ".py",
   "mimetype": "text/x-python",
   "name": "python",
   "nbconvert_exporter": "python",
   "pygments_lexer": "ipython3",
   "version": "3.9.7"
  }
 },
 "nbformat": 4,
 "nbformat_minor": 5
}
