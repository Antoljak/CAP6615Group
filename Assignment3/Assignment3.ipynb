{
 "cells": [
  {
   "cell_type": "code",
   "execution_count": 1,
   "metadata": {},
   "outputs": [
    {
     "name": "stdout",
     "output_type": "stream",
     "text": [
      "           Date    Price     Open     High      Low Vol.  Change %\n",
      "0    01/12/2021  4766.18  4623.80  4808.52  4494.20    -    0.0436\n",
      "1    01/11/2021  4567.00  4616.47  4743.74  4560.26    -   -0.0083\n",
      "2    01/10/2021  4605.38  4324.71  4608.70  4278.70    -    0.0691\n",
      "3    01/09/2021  4307.54  4531.04  4544.58  4304.90    -   -0.0476\n",
      "4    01/08/2021  4522.68  4415.90  4537.80  4369.20    -    0.0290\n",
      "..          ...      ...      ...      ...      ...  ...       ...\n",
      "618  01/06/1970    72.72    76.55    79.96    72.25    -   -0.0500\n",
      "619  01/05/1970    76.55    81.52    82.32    68.61    -   -0.0610\n",
      "620  01/04/1970    81.52    89.63    90.70    79.31    -   -0.0905\n",
      "621  01/03/1970    89.63    89.50    91.07    86.19    -    0.0015\n",
      "622  01/02/1970    89.50    85.02    90.33    84.64    -    0.0527\n",
      "\n",
      "[623 rows x 7 columns]\n"
     ]
    }
   ],
   "source": [
    "import numpy as np\n",
    "import pandas as pd\n",
    "import random\n",
    "import torch\n",
    "import torch.nn as nn\n",
    "from torch.autograd import Variable\n",
    "from sklearn.preprocessing import MinMaxScaler\n",
    "from sklearn.model_selection import train_test_split\n",
    "import matplotlib.pyplot as plt\n",
    "dataframe = pd.read_csv(\"SP500DATA.csv\")\n",
    "print(dataframe)# Text file data converted to integer data type"
   ]
  },
  {
   "cell_type": "code",
   "execution_count": 2,
   "metadata": {
    "scrolled": true
   },
   "outputs": [
    {
     "name": "stdout",
     "output_type": "stream",
     "text": [
      "(623, 1)\n"
     ]
    }
   ],
   "source": [
    "trainData = dataframe[[\"Price\", \"Open\"]].to_numpy(dtype = 'float')\n",
    "targetData = dataframe[[\"Price\"]].to_numpy(dtype = 'float')\n",
    "date = dataframe[[\"Date\"]].to_numpy(dtype = \"str\")\n",
    "\n",
    "norm = MinMaxScaler(feature_range = (0, 1))\n",
    "trainData = norm.fit_transform(trainData)\n",
    "targetData = norm.fit_transform(targetData)\n",
    "trainData = np.flip(trainData)\n",
    "targetData = np.flip(targetData)\n",
    "date = np.flip(date)\n",
    "print(np.shape(date))\n",
    "\n",
    "dateAxis = []\n",
    "for i in range(date.shape[0]):\n",
    "    dateAxis.append(float(np.squeeze(date)[i][6:10]) + float(np.squeeze(date)[i][3:5])/12.0)"
   ]
  },
  {
   "cell_type": "code",
   "execution_count": 3,
   "metadata": {},
   "outputs": [],
   "source": [
    "X = []\n",
    "Y = []\n",
    "for i in range(trainData.shape[0] - 5 - 4):\n",
    "    X.append(trainData[i:i+6])\n",
    "    Y.append(targetData[i+6:i+6+4])\n",
    "X = np.array(X)\n",
    "Y = np.array(Y)\n",
    "Y = np.swapaxes(Y, 1, 2)"
   ]
  },
  {
   "cell_type": "code",
   "execution_count": 4,
   "metadata": {},
   "outputs": [],
   "source": [
    "X_fullTraining = []\n",
    "X_training = []\n",
    "X_validation = []\n",
    "X_test = []\n",
    "Y_fullTraining = []\n",
    "Y_training = []\n",
    "Y_validation = []\n",
    "Y_test = []\n",
    "\n",
    "X_fullTraining, X_test, Y_fullTraining, Y_test = train_test_split(X, Y, test_size=0.3, shuffle=False)\n",
    "X_training, X_validation, Y_training, Y_validation = train_test_split(X_fullTraining, Y_fullTraining, test_size=0.3, shuffle=False)\n",
    "\n",
    "date_train=date[0:437,:]\n",
    "date_test=date[438:623,:]"
   ]
  },
  {
   "cell_type": "code",
   "execution_count": 5,
   "metadata": {},
   "outputs": [],
   "source": [
    "class Model(nn.Module):\n",
    "    def __init__(self, input_size, output_size, hidden_dim, n_layers):\n",
    "        super(Model, self).__init__()\n",
    "\n",
    "        self.hidden_dim = hidden_dim\n",
    "        self.n_layers = n_layers\n",
    "\n",
    "        self.rnn = nn.RNN(input_size, hidden_dim, n_layers, batch_first=True)   \n",
    "\n",
    "        self.fc = nn.Linear(hidden_dim, output_size)\n",
    "    \n",
    "    def forward(self, x):\n",
    "        \n",
    "        batch_size = x.size(0)\n",
    "\n",
    "        hidden = self.init_hidden(batch_size)\n",
    "\n",
    "        out, hidden = self.rnn(x, hidden)\n",
    "    \n",
    "        out = self.fc(out)\n",
    "    \n",
    "        return out[:, -1, :], hidden\n",
    "    \n",
    "    def init_hidden(self, batch_size):\n",
    "        hidden = torch.zeros(self.n_layers, batch_size, self.hidden_dim)\n",
    "        return hidden"
   ]
  },
  {
   "cell_type": "code",
   "execution_count": 6,
   "metadata": {},
   "outputs": [
    {
     "data": {
      "text/plain": [
       "Model(\n",
       "  (rnn): RNN(2, 16, batch_first=True)\n",
       "  (fc): Linear(in_features=16, out_features=4, bias=True)\n",
       ")"
      ]
     },
     "execution_count": 6,
     "metadata": {},
     "output_type": "execute_result"
    }
   ],
   "source": [
    "RNN = Model(input_size=2, output_size=4, hidden_dim=16, n_layers=1)\n",
    "optimizer = torch.optim.Adam(RNN.parameters(), lr=0.01)\n",
    "criterion = nn.MSELoss()\n",
    "RNN"
   ]
  },
  {
   "cell_type": "code",
   "execution_count": 7,
   "metadata": {},
   "outputs": [
    {
     "name": "stdout",
     "output_type": "stream",
     "text": [
      "Epoch: 0/100............. Loss: 0.049767669290304184\n",
      "Epoch: 10/100............. Loss: 0.002227192046120763\n",
      "Epoch: 20/100............. Loss: 0.0010958743514493108\n",
      "Epoch: 30/100............. Loss: 0.0006273131584748626\n",
      "Epoch: 40/100............. Loss: 0.00039101153379306197\n",
      "Epoch: 50/100............. Loss: 0.00026088542654179037\n",
      "Epoch: 60/100............. Loss: 0.00015258899657055736\n",
      "Epoch: 70/100............. Loss: 7.319028372876346e-05\n",
      "Epoch: 80/100............. Loss: 2.7113715987070464e-05\n",
      "Epoch: 90/100............. Loss: 1.3802229659631848e-05\n"
     ]
    }
   ],
   "source": [
    "xTensor = torch.from_numpy(X_training).float()\n",
    "yTensor = torch.Tensor(Y_training).float()\n",
    "\n",
    "for epoch in range(100):\n",
    "    optimizer.zero_grad()\n",
    "    \n",
    "    output, hidden = RNN(xTensor)\n",
    "    loss = criterion(output.reshape(-1), yTensor.view(-1))\n",
    "    loss.backward()\n",
    "    \n",
    "    optimizer.step()\n",
    "    \n",
    "    if epoch%10 == 0:\n",
    "        print('Epoch: {}/{}.............'.format(epoch, 100), end=' ')\n",
    "        print(\"Loss:\", loss.item())"
   ]
  },
  {
   "cell_type": "code",
   "execution_count": 8,
   "metadata": {},
   "outputs": [],
   "source": [
    "def prediction_error(pred, actual):\n",
    "    return abs(pred - actual)/pred"
   ]
  },
  {
   "cell_type": "code",
   "execution_count": 9,
   "metadata": {
    "scrolled": false
   },
   "outputs": [
    {
     "data": {
      "image/png": "[encoded data removed]",
      "text/plain": [
       "<Figure size 432x288 with 1 Axes>"
      ]
     },
     "metadata": {
      "needs_background": "light"
     },
     "output_type": "display_data"
    },
    {
     "data": {
      "image/png": "[encoded data removed]",
      "text/plain": [
       "<Figure size 432x288 with 1 Axes>"
      ]
     },
     "metadata": {
      "needs_background": "light"
     },
     "output_type": "display_data"
    }
   ],
   "source": [
    "plt.plot(dateAxis[0:300], output.detach().numpy()[:, 0], color = 'blue')\n",
    "plt.plot( dateAxis[0:300], np.squeeze(Y_training[:, :, 0]), color = 'red')\n",
    "plt.show()\n",
    "\n",
    "error = prediction_error(output.detach().numpy()[:, 0], np.squeeze(Y_training[:, :, 0]))\n",
    "plt.plot(error, color = 'red')\n",
    "plt.show()"
   ]
  },
  {
   "cell_type": "code",
   "execution_count": 10,
   "metadata": {},
   "outputs": [
    {
     "name": "stdout",
     "output_type": "stream",
     "text": [
      "NOISY\n"
     ]
    }
   ],
   "source": [
    "print(\"NOISY\")\n",
    "stdev = [0,0.001, 0.002, 0.003, 0.005, 0.01, 0.02, 0.03, 0.05,0.1]\n",
    "\n",
    "def NoisyTesting(dataset, sigma):\n",
    "    noisy_data = np.ndarray(shape=dataset.shape, dtype=np.float32)\n",
    "    #set seed for random numbers\n",
    "    random.seed(1)\n",
    "    for i in range(6):\n",
    "        s = np.random.normal(0, sigma, 18)\n",
    "        index = random.sample(list(range(180)), 18)\n",
    "        noisy_data[i] = dataset[i]\n",
    "        noisy_data[index, i, 0] = noisy_data[index, i, 0] + s\n",
    "    return noisy_data"
   ]
  },
  {
   "cell_type": "code",
   "execution_count": 11,
   "metadata": {},
   "outputs": [],
   "source": [
    "#predict next day (day_index = 0)\n",
    "day_index = 0\n",
    "out_temp = np.concatenate( (Y_test[:, :, day_index], Y_test[:, :, day_index], Y_test[:, :, day_index]), axis = 1)\n",
    "target = norm.inverse_transform(out_temp)[:, [0]]\n",
    "error_res_all = []\n",
    "for sigma in stdev:\n",
    "    noisy_data = NoisyTesting(X_test, sigma)\n",
    "    inputs = Variable(torch.from_numpy(noisy_data).float())\n",
    "    output, _ = RNN(inputs)\n",
    "    out_temp = np.concatenate((output.detach().numpy()[:, [day_index]], \n",
    "                               output.detach().numpy()[:, [day_index]],  \n",
    "                               output.detach().numpy()[:, [day_index]]), axis=1)\n",
    "    predicted_price = norm.inverse_transform(out_temp)[:, [0]]\n",
    "    error = prediction_error(target, predicted_price)\n",
    "    error_res_all.append(error.reshape(-1))\n"
   ]
  },
  {
   "cell_type": "code",
   "execution_count": 12,
   "metadata": {},
   "outputs": [
    {
     "data": {
      "text/html": [
       "<div>\n",
       "<style scoped>\n",
       "    .dataframe tbody tr th:only-of-type {\n",
       "        vertical-align: middle;\n",
       "    }\n",
       "\n",
       "    .dataframe tbody tr th {\n",
       "        vertical-align: top;\n",
       "    }\n",
       "\n",
       "    .dataframe thead th {\n",
       "        text-align: right;\n",
       "    }\n",
       "</style>\n",
       "<table border=\"1\" class=\"dataframe\">\n",
       "  <thead>\n",
       "    <tr style=\"text-align: right;\">\n",
       "      <th></th>\n",
       "      <th>0.000</th>\n",
       "      <th>0.001</th>\n",
       "      <th>0.002</th>\n",
       "      <th>0.003</th>\n",
       "      <th>0.005</th>\n",
       "      <th>0.010</th>\n",
       "      <th>0.020</th>\n",
       "      <th>0.030</th>\n",
       "      <th>0.050</th>\n",
       "      <th>0.100</th>\n",
       "    </tr>\n",
       "  </thead>\n",
       "  <tbody>\n",
       "    <tr>\n",
       "      <th>01/08/2006</th>\n",
       "      <td>0.078499</td>\n",
       "      <td>0.078509</td>\n",
       "      <td>0.078501</td>\n",
       "      <td>0.078491</td>\n",
       "      <td>0.078431</td>\n",
       "      <td>0.078668</td>\n",
       "      <td>0.078856</td>\n",
       "      <td>0.078813</td>\n",
       "      <td>0.078876</td>\n",
       "      <td>0.077101</td>\n",
       "    </tr>\n",
       "    <tr>\n",
       "      <th>01/09/2006</th>\n",
       "      <td>0.080460</td>\n",
       "      <td>0.080460</td>\n",
       "      <td>0.080460</td>\n",
       "      <td>0.080460</td>\n",
       "      <td>0.080460</td>\n",
       "      <td>0.080460</td>\n",
       "      <td>0.080460</td>\n",
       "      <td>0.080460</td>\n",
       "      <td>0.080460</td>\n",
       "      <td>0.080460</td>\n",
       "    </tr>\n",
       "    <tr>\n",
       "      <th>01/10/2006</th>\n",
       "      <td>0.089416</td>\n",
       "      <td>0.089416</td>\n",
       "      <td>0.089416</td>\n",
       "      <td>0.089416</td>\n",
       "      <td>0.089416</td>\n",
       "      <td>0.089416</td>\n",
       "      <td>0.089416</td>\n",
       "      <td>0.089416</td>\n",
       "      <td>0.089416</td>\n",
       "      <td>0.089416</td>\n",
       "    </tr>\n",
       "    <tr>\n",
       "      <th>01/11/2006</th>\n",
       "      <td>0.110608</td>\n",
       "      <td>0.110049</td>\n",
       "      <td>0.110036</td>\n",
       "      <td>0.109558</td>\n",
       "      <td>0.113144</td>\n",
       "      <td>0.109673</td>\n",
       "      <td>0.106356</td>\n",
       "      <td>0.112440</td>\n",
       "      <td>0.107842</td>\n",
       "      <td>0.096306</td>\n",
       "    </tr>\n",
       "    <tr>\n",
       "      <th>01/12/2006</th>\n",
       "      <td>0.127183</td>\n",
       "      <td>0.127183</td>\n",
       "      <td>0.127183</td>\n",
       "      <td>0.127183</td>\n",
       "      <td>0.127183</td>\n",
       "      <td>0.127183</td>\n",
       "      <td>0.127183</td>\n",
       "      <td>0.127183</td>\n",
       "      <td>0.127183</td>\n",
       "      <td>0.127183</td>\n",
       "    </tr>\n",
       "    <tr>\n",
       "      <th>...</th>\n",
       "      <td>...</td>\n",
       "      <td>...</td>\n",
       "      <td>...</td>\n",
       "      <td>...</td>\n",
       "      <td>...</td>\n",
       "      <td>...</td>\n",
       "      <td>...</td>\n",
       "      <td>...</td>\n",
       "      <td>...</td>\n",
       "      <td>...</td>\n",
       "    </tr>\n",
       "    <tr>\n",
       "      <th>01/08/2021</th>\n",
       "      <td>0.347893</td>\n",
       "      <td>0.983341</td>\n",
       "      <td>1.389208</td>\n",
       "      <td>0.983559</td>\n",
       "      <td>0.472521</td>\n",
       "      <td>0.970848</td>\n",
       "      <td>0.049087</td>\n",
       "      <td>0.870638</td>\n",
       "      <td>0.199989</td>\n",
       "      <td>0.623735</td>\n",
       "    </tr>\n",
       "    <tr>\n",
       "      <th>01/09/2021</th>\n",
       "      <td>0.356641</td>\n",
       "      <td>0.983703</td>\n",
       "      <td>0.217374</td>\n",
       "      <td>0.983703</td>\n",
       "      <td>1.480388</td>\n",
       "      <td>0.983703</td>\n",
       "      <td>0.390725</td>\n",
       "      <td>0.983966</td>\n",
       "      <td>1.495877</td>\n",
       "      <td>0.619908</td>\n",
       "    </tr>\n",
       "    <tr>\n",
       "      <th>01/10/2021</th>\n",
       "      <td>0.370766</td>\n",
       "      <td>0.984065</td>\n",
       "      <td>0.401420</td>\n",
       "      <td>0.984044</td>\n",
       "      <td>0.410156</td>\n",
       "      <td>0.984136</td>\n",
       "      <td>1.469703</td>\n",
       "      <td>0.947230</td>\n",
       "      <td>0.496030</td>\n",
       "      <td>0.847301</td>\n",
       "    </tr>\n",
       "    <tr>\n",
       "      <th>01/11/2021</th>\n",
       "      <td>0.256341</td>\n",
       "      <td>0.984514</td>\n",
       "      <td>0.758042</td>\n",
       "      <td>0.984514</td>\n",
       "      <td>0.023251</td>\n",
       "      <td>0.984682</td>\n",
       "      <td>0.256341</td>\n",
       "      <td>0.955006</td>\n",
       "      <td>0.256341</td>\n",
       "      <td>0.592353</td>\n",
       "    </tr>\n",
       "    <tr>\n",
       "      <th>01/12/2021</th>\n",
       "      <td>0.219199</td>\n",
       "      <td>0.983741</td>\n",
       "      <td>0.363551</td>\n",
       "      <td>0.983741</td>\n",
       "      <td>0.019433</td>\n",
       "      <td>0.983751</td>\n",
       "      <td>1.305002</td>\n",
       "      <td>0.984061</td>\n",
       "      <td>0.013012</td>\n",
       "      <td>0.575396</td>\n",
       "    </tr>\n",
       "  </tbody>\n",
       "</table>\n",
       "<p>185 rows × 10 columns</p>\n",
       "</div>"
      ],
      "text/plain": [
       "               0.000     0.001     0.002     0.003     0.005     0.010  \\\n",
       "01/08/2006  0.078499  0.078509  0.078501  0.078491  0.078431  0.078668   \n",
       "01/09/2006  0.080460  0.080460  0.080460  0.080460  0.080460  0.080460   \n",
       "01/10/2006  0.089416  0.089416  0.089416  0.089416  0.089416  0.089416   \n",
       "01/11/2006  0.110608  0.110049  0.110036  0.109558  0.113144  0.109673   \n",
       "01/12/2006  0.127183  0.127183  0.127183  0.127183  0.127183  0.127183   \n",
       "...              ...       ...       ...       ...       ...       ...   \n",
       "01/08/2021  0.347893  0.983341  1.389208  0.983559  0.472521  0.970848   \n",
       "01/09/2021  0.356641  0.983703  0.217374  0.983703  1.480388  0.983703   \n",
       "01/10/2021  0.370766  0.984065  0.401420  0.984044  0.410156  0.984136   \n",
       "01/11/2021  0.256341  0.984514  0.758042  0.984514  0.023251  0.984682   \n",
       "01/12/2021  0.219199  0.983741  0.363551  0.983741  0.019433  0.983751   \n",
       "\n",
       "               0.020     0.030     0.050     0.100  \n",
       "01/08/2006  0.078856  0.078813  0.078876  0.077101  \n",
       "01/09/2006  0.080460  0.080460  0.080460  0.080460  \n",
       "01/10/2006  0.089416  0.089416  0.089416  0.089416  \n",
       "01/11/2006  0.106356  0.112440  0.107842  0.096306  \n",
       "01/12/2006  0.127183  0.127183  0.127183  0.127183  \n",
       "...              ...       ...       ...       ...  \n",
       "01/08/2021  0.049087  0.870638  0.199989  0.623735  \n",
       "01/09/2021  0.390725  0.983966  1.495877  0.619908  \n",
       "01/10/2021  1.469703  0.947230  0.496030  0.847301  \n",
       "01/11/2021  0.256341  0.955006  0.256341  0.592353  \n",
       "01/12/2021  1.305002  0.984061  0.013012  0.575396  \n",
       "\n",
       "[185 rows x 10 columns]"
      ]
     },
     "execution_count": 12,
     "metadata": {},
     "output_type": "execute_result"
    }
   ],
   "source": [
    "labels = date_test[:,0]\n",
    "df_error=pd.DataFrame(error_res_all, columns=labels, index=stdev).T\n",
    "df_error"
   ]
  },
  {
   "cell_type": "code",
   "execution_count": null,
   "metadata": {},
   "outputs": [],
   "source": []
  }
 ],
 "metadata": {
  "kernelspec": {
   "display_name": "Python 3",
   "language": "python",
   "name": "python3"
  },
  "language_info": {
   "codemirror_mode": {
    "name": "ipython",
    "version": 3
   },
   "file_extension": ".py",
   "mimetype": "text/x-python",
   "name": "python",
   "nbconvert_exporter": "python",
   "pygments_lexer": "ipython3",
   "version": "3.8.3"
  }
 },
 "nbformat": 4,
 "nbformat_minor": 5
}
